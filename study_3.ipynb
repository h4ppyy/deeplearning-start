{
 "cells": [
  {
   "cell_type": "markdown",
   "metadata": {},
   "source": [
    "# w값, b값 갱신\n",
    "\n",
    "$$H(x)=wx+b$$\n",
    "\n",
    "```\n",
    "study_1 에서 weight 값에 대해서만 갱신하였기 때문에\n",
    "bias 값에 대해서도 갱신을 해보도록 한다\n",
    "```"
   ]
  },
  {
   "cell_type": "markdown",
   "metadata": {},
   "source": [
    "# cost function"
   ]
  },
  {
   "cell_type": "markdown",
   "metadata": {},
   "source": [
    "$$cost(w, b) = \\frac{1}{m} \\sum_{i=1}^{m} (wx_i + b_i - y_i)^2 $$"
   ]
  },
  {
   "cell_type": "markdown",
   "metadata": {},
   "source": [
    "# 학습비율"
   ]
  },
  {
   "cell_type": "markdown",
   "metadata": {},
   "source": [
    "$$\\alpha = learning rate$$"
   ]
  },
  {
   "cell_type": "markdown",
   "metadata": {},
   "source": [
    "# w 갱신 공식"
   ]
  },
  {
   "cell_type": "markdown",
   "metadata": {},
   "source": [
    "$$w := w - \\alpha \\frac{\\partial}{\\partial W} \\frac{1}{m} \\sum_{i=1}^{m} (wx_i + b_i - y_i)^2$$"
   ]
  },
  {
   "cell_type": "markdown",
   "metadata": {},
   "source": [
    "$$w := w - \\alpha \\frac{1}{m} \\sum_{i=1}^{m} 2(wx_i + b_i - y_i)x_i$$"
   ]
  },
  {
   "cell_type": "markdown",
   "metadata": {},
   "source": [
    "# b 갱신 공식"
   ]
  },
  {
   "cell_type": "markdown",
   "metadata": {},
   "source": [
    "$$b := b - \\alpha \\frac{\\partial}{\\partial b} \\frac{1}{m} \\sum_{i=1}^{m} (wx_i + b_i - y_i)^2$$"
   ]
  },
  {
   "cell_type": "markdown",
   "metadata": {},
   "source": [
    "$$b := b - \\alpha \\frac{1}{m} \\sum_{i=1}^{m} 2(wx_i + b_i - y_i)$$"
   ]
  },
  {
   "cell_type": "markdown",
   "metadata": {},
   "source": [
    "# 파이썬 코드로 구현"
   ]
  },
  {
   "cell_type": "code",
   "execution_count": 1,
   "metadata": {},
   "outputs": [],
   "source": [
    "import matplotlib.pyplot as plt\n",
    "\n",
    "def linear(input, w, y):\n",
    "    output = []\n",
    "    for x in input:\n",
    "        h = w * x + y\n",
    "        output.append(h)\n",
    "    return output"
   ]
  },
  {
   "cell_type": "code",
   "execution_count": 2,
   "metadata": {},
   "outputs": [],
   "source": [
    "x = [0, 1, 2, 3, 4]\n",
    "y = linear(x, 1, 3) # w=1 b=3\n",
    "b = 0\n",
    "w = 5\n",
    "learning_rate = 0.01"
   ]
  },
  {
   "cell_type": "code",
   "execution_count": 3,
   "metadata": {},
   "outputs": [
    {
     "data": {
      "image/png": "[encoded data removed]",
      "text/plain": [
       "<Figure size 432x288 with 1 Axes>"
      ]
     },
     "metadata": {
      "needs_background": "light"
     },
     "output_type": "display_data"
    }
   ],
   "source": [
    "y_hat = linear(x, w, b) # predict\n",
    "\n",
    "plt.xlabel('X')\n",
    "plt.ylabel('Y')\n",
    "plt.plot(x, y_hat) # predict\n",
    "plt.plot(x, y, 'ro') # solution\n",
    "plt.grid(True)\n",
    "plt.show()"
   ]
  },
  {
   "cell_type": "code",
   "execution_count": 4,
   "metadata": {},
   "outputs": [
    {
     "name": "stdout",
     "output_type": "stream",
     "text": [
      "step = 0, w = 4.792, b = -0.052000000000000005\n",
      "step = 50, w = 2.02546451005717, b = -0.743633872485707\n",
      "step = 100, w = 1.9436685482367533, b = -0.7640828629408112\n",
      "step = 150, w = 1.9412501518726184, b = -0.7646874620318447\n",
      "step = 200, w = 1.9411786490643639, b = -0.7647053377339084\n",
      "step = 250, w = 1.941176534997512, b = -0.7647058662506218\n",
      "step = 300, w = 1.9411764724925733, b = -0.7647058818768567\n",
      "step = 350, w = 1.9411764706445394, b = -0.7647058823388654\n",
      "step = 400, w = 1.9411764705899, b = -0.7647058823525252\n",
      "step = 450, w = 1.9411764705882848, b = -0.7647058823529291\n",
      "step = 500, w = 1.9411764705882368, b = -0.7647058823529412\n",
      "step = 550, w = 1.9411764705882368, b = -0.7647058823529412\n",
      "step = 600, w = 1.9411764705882368, b = -0.7647058823529412\n",
      "step = 650, w = 1.9411764705882368, b = -0.7647058823529412\n",
      "step = 700, w = 1.9411764705882368, b = -0.7647058823529412\n",
      "step = 750, w = 1.9411764705882368, b = -0.7647058823529412\n",
      "step = 800, w = 1.9411764705882368, b = -0.7647058823529412\n",
      "step = 850, w = 1.9411764705882368, b = -0.7647058823529412\n",
      "step = 900, w = 1.9411764705882368, b = -0.7647058823529412\n",
      "step = 950, w = 1.9411764705882368, b = -0.7647058823529412\n"
     ]
    }
   ],
   "source": [
    "for step in range(0, 1000):\n",
    "    for i in range(0, len(x)):\n",
    "        # update w\n",
    "        w_sum = 2 * (w * x[i] + b - y[i]) * x[i]\n",
    "        \n",
    "        # update b\n",
    "        b_sum = 2 * (w * x[i] + b - y[i])\n",
    "    update_w = learning_rate * ( w_sum / len(x) )\n",
    "    update_b = learning_rate * ( b_sum / len(x) )\n",
    "    \n",
    "    w = w - update_w\n",
    "    b = b - update_b\n",
    "    \n",
    "    if step % 50 == 0:\n",
    "        print('step = {}, w = {}, b = {}'.format(step, w, b))"
   ]
  },
  {
   "cell_type": "code",
   "execution_count": 5,
   "metadata": {},
   "outputs": [
    {
     "data": {
      "image/png": "[encoded data removed]",
      "text/plain": [
       "<Figure size 432x288 with 1 Axes>"
      ]
     },
     "metadata": {
      "needs_background": "light"
     },
     "output_type": "display_data"
    }
   ],
   "source": [
    "y_hat = linear(x, w, b) # predict\n",
    "\n",
    "plt.xlabel('X')\n",
    "plt.ylabel('Y')\n",
    "plt.plot(x, y_hat) # predict\n",
    "plt.plot(x, y, 'ro') # solution\n",
    "plt.grid(True)\n",
    "plt.show()"
   ]
  }
 ],
 "metadata": {
  "kernelspec": {
   "display_name": "Python 3",
   "language": "python",
   "name": "python3"
  },
  "language_info": {
   "codemirror_mode": {
    "name": "ipython",
    "version": 3
   },
   "file_extension": ".py",
   "mimetype": "text/x-python",
   "name": "python",
   "nbconvert_exporter": "python",
   "pygments_lexer": "ipython3",
   "version": "3.6.8"
  }
 },
 "nbformat": 4,
 "nbformat_minor": 4
}
