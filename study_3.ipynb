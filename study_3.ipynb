{
 "cells": [
  {
   "cell_type": "markdown",
   "metadata": {},
   "source": [
    "# w값, b값 갱신\n",
    "\n",
    "$$H(x)=wx+b$$\n",
    "\n",
    "```\n",
    "study_1 에서 weight 값에 대해서만 갱신하였기 때문에\n",
    "bias 값에 대해서도 갱신을 해보도록 한다\n",
    "```"
   ]
  },
  {
   "cell_type": "markdown",
   "metadata": {},
   "source": [
    "# cost function"
   ]
  },
  {
   "cell_type": "markdown",
   "metadata": {},
   "source": [
    "$$cost(w, b) = \\frac{1}{m} \\sum_{i=1}^{m} (wx_i + b_i - y_i)^2 $$"
   ]
  },
  {
   "cell_type": "markdown",
   "metadata": {},
   "source": [
    "# 학습비율"
   ]
  },
  {
   "cell_type": "markdown",
   "metadata": {},
   "source": [
    "$$\\alpha = learning rate$$"
   ]
  },
  {
   "cell_type": "markdown",
   "metadata": {},
   "source": [
    "# w 갱신 공식"
   ]
  },
  {
   "cell_type": "markdown",
   "metadata": {},
   "source": [
    "$$w := w - \\alpha \\frac{\\partial}{\\partial W} \\frac{1}{m} \\sum_{i=1}^{m} (wx_i + b_i - y_i)^2$$"
   ]
  },
  {
   "cell_type": "markdown",
   "metadata": {},
   "source": [
    "$$w := w - \\alpha \\frac{1}{m} \\sum_{i=1}^{m} 2(wx_i + b_i - y_i)x_i$$"
   ]
  },
  {
   "cell_type": "markdown",
   "metadata": {},
   "source": [
    "# b 갱신 공식"
   ]
  },
  {
   "cell_type": "markdown",
   "metadata": {},
   "source": [
    "$$b := b - \\alpha \\frac{\\partial}{\\partial b} \\frac{1}{m} \\sum_{i=1}^{m} (wx_i + b_i - y_i)^2$$"
   ]
  },
  {
   "cell_type": "markdown",
   "metadata": {},
   "source": [
    "$$b := b - \\alpha \\frac{1}{m} \\sum_{i=1}^{m} 2(wx_i + b_i - y_i)$$"
   ]
  },
  {
   "cell_type": "markdown",
   "metadata": {},
   "source": [
    "# 파이썬 코드로 구현"
   ]
  },
  {
   "cell_type": "code",
   "execution_count": 1,
   "metadata": {},
   "outputs": [],
   "source": [
    "import matplotlib.pyplot as plt\n",
    "\n",
    "def linear(input, w, y):\n",
    "    output = []\n",
    "    for x in input:\n",
    "        h = w * x + y\n",
    "        output.append(h)\n",
    "    return output"
   ]
  },
  {
   "cell_type": "code",
   "execution_count": 2,
   "metadata": {},
   "outputs": [],
   "source": [
    "x = [0, 1, 2, 3, 4]\n",
    "y = linear(x, 1, 3) # w=1 b=3\n",
    "b = 0\n",
    "w = 5\n",
    "learning_rate = 0.01"
   ]
  },
  {
   "cell_type": "code",
   "execution_count": 3,
   "metadata": {},
   "outputs": [
    {
     "data": {
      "image/png": "[encoded data removed]",
      "text/plain": [
       "<Figure size 432x288 with 1 Axes>"
      ]
     },
     "metadata": {
      "needs_background": "light"
     },
     "output_type": "display_data"
    }
   ],
   "source": [
    "y_hat = linear(x, w, b) # predict\n",
    "\n",
    "plt.xlabel('X')\n",
    "plt.ylabel('Y')\n",
    "plt.plot(x, y_hat) # predict\n",
    "plt.plot(x, y, 'ro') # solution\n",
    "plt.grid(True)\n",
    "plt.show()"
   ]
  },
  {
   "cell_type": "code",
   "execution_count": 4,
   "metadata": {},
   "outputs": [
    {
     "name": "stdout",
     "output_type": "stream",
     "text": [
      "step = 0, w = 4.64, b = -0.1\n",
      "step = 50, w = 2.0151512291506046, b = 0.1114843633217405\n",
      "step = 100, w = 1.7512824228597994, b = 0.8582623928480246\n",
      "step = 150, w = 1.5569346176802483, b = 1.412301343687218\n",
      "step = 200, w = 1.4128629738098037, b = 1.8230180541550096\n",
      "step = 250, w = 1.3060607655276362, b = 2.1274877666211425\n",
      "step = 300, w = 1.2268868804851425, b = 2.3531951784960854\n",
      "step = 350, w = 1.168194235701966, b = 2.5205150585676046\n",
      "step = 400, w = 1.1246846043406247, b = 2.6445514915521744\n",
      "step = 450, w = 1.0924303409964986, b = 2.7365013345771616\n",
      "step = 500, w = 1.0685198303504209, b = 2.804664965446583\n",
      "step = 550, w = 1.050794653580563, b = 2.8551955636558697\n",
      "step = 600, w = 1.037654746358454, b = 2.8926545622863817\n",
      "step = 650, w = 1.027913959902703, b = 2.9204234118176893\n",
      "step = 700, w = 1.0206929864838874, b = 2.941008826070179\n",
      "step = 750, w = 1.0153399836896972, b = 2.956269065046547\n",
      "step = 800, w = 1.0113717321462234, b = 2.967581681385451\n",
      "step = 850, w = 1.0084300149609873, b = 2.975967873019111\n",
      "step = 900, w = 1.0062492812289878, b = 2.9821846674377985\n",
      "step = 950, w = 1.0046326745634162, b = 2.986793259100443\n"
     ]
    }
   ],
   "source": [
    "for step in range(0, 1000):\n",
    "    w_sum = 0\n",
    "    b_sum = 0\n",
    "    for i in range(0, len(x)):\n",
    "        # update w\n",
    "        w_sum += 2 * (w * x[i] + b - y[i]) * x[i]\n",
    "        \n",
    "        # update b\n",
    "        b_sum += 2 * (w * x[i] + b - y[i])\n",
    "    update_w = learning_rate * ( w_sum / len(x) )\n",
    "    update_b = learning_rate * ( b_sum / len(x) )\n",
    "    \n",
    "    w = w - update_w\n",
    "    b = b - update_b\n",
    "    \n",
    "    if step % 50 == 0:\n",
    "        print('step = {}, w = {}, b = {}'.format(step, w, b))"
   ]
  },
  {
   "cell_type": "code",
   "execution_count": 5,
   "metadata": {},
   "outputs": [
    {
     "data": {
      "image/png": "[encoded data removed]",
      "text/plain": [
       "<Figure size 432x288 with 1 Axes>"
      ]
     },
     "metadata": {
      "needs_background": "light"
     },
     "output_type": "display_data"
    }
   ],
   "source": [
    "y_hat = linear(x, w, b) # predict\n",
    "\n",
    "plt.xlabel('X')\n",
    "plt.ylabel('Y')\n",
    "plt.plot(x, y_hat) # predict\n",
    "plt.plot(x, y, 'ro') # solution\n",
    "plt.grid(True)\n",
    "plt.show()"
   ]
  }
 ],
 "metadata": {
  "kernelspec": {
   "display_name": "Python 3",
   "language": "python",
   "name": "python3"
  },
  "language_info": {
   "codemirror_mode": {
    "name": "ipython",
    "version": 3
   },
   "file_extension": ".py",
   "mimetype": "text/x-python",
   "name": "python",
   "nbconvert_exporter": "python",
   "pygments_lexer": "ipython3",
   "version": "3.6.8"
  }
 },
 "nbformat": 4,
 "nbformat_minor": 4
}
